{
 "cells": [
  {
   "cell_type": "markdown",
   "metadata": {},
   "source": [
    "# Healthcare Python Streaming Application Demo\n",
    "This application demonstrates how users can develop Python Streaming Applications from a Jupyter Notebook. The Jupyter Notebook ultimately submits two Streams applications to a local Streams cluster. The first application is a pre-compiled SPL application that simulates patient waveform and vital data, as well as publishes the data to a topic. The second application is a Python Topology application written using the Streams Python API. This application subscribes to the topic containing the patient data, performs analysis on the waveforms and sends all of the data, including the results of the analysis, to the Streams view server.\n",
    "\n",
    "Submitting the Python application from the Notebook allows for connecting to the Streams view server in order to retrieve the data. Once the data has been retrieved, it can be analyzed, manipulated or visualized like any other data accessed from a notebook. In the case of this demo, waveform graphs and numerical widgets are being used to display the healthcare data of the patient. \n",
    "\n",
    "The following diagram outlines the architecture of the demo.  \n",
    "\n",
    "![Demo Architecture](../images/architecture_diagram.jpg)"
   ]
  },
  {
   "cell_type": "markdown",
   "metadata": {},
   "source": [
    "### Cell Description\n",
    "\n",
    "This cell is responsible for building and submitting the Streams applications to the Streams cluster. \n",
    "\n",
    "###### PhysionetIngestServiceMulti microservice\n",
    "\n",
    "This microservice comes in the form of a pre-compiled SAB file. The microservice retrieves patient waveform and vital data from a Physionet database (https://www.physionet.org/). The patient data is submitted to the *ingest-physionet* topic, which allows it to be consumed from downtstream applications or services. \n",
    "\n",
    "##### Healthcare Patient Python Topology Application\n",
    "\n",
    "The main source code for the Python Topology application can be found in `src/healthcare_patient.py`. As described in the above architecture, this is a Streaming Python application that ingests the patient data from the *ingest-physionet* topic, performs filtering and analysis on the data, and then sends the data to the Streams view server. \n",
    "\n",
    "For reference, the following is a snippet of the underlying Python Topology application code: \n",
    "\n",
    "    class HealthcarePatientData:\n",
    "        def __init__(self, username, password, sample_rate=125, patient_id=None):\n",
    "            self.username = username\n",
    "            self.password = password\n",
    "            self.sample_rate = sample_rate\n",
    "            self.target_sample_rate = 100 \n",
    "            self.patient_id=patient_id\n",
    "\n",
    "        def run(self, context='DISTRIBUTED'):\n",
    "            ## Create topology\n",
    "            topo = Topology('HealthcareDemo')\n",
    "\n",
    "            ## Ingest, preprocess and aggregate patient data\n",
    "            patientData = topo.subscribe('ingest-physionet', schema.CommonSchema.Json) \\\n",
    "                              .map(functions.identity) \\\n",
    "                              .filter(healthcare_functions.PatientFilter(self.patient_id)) \\\n",
    "                              .transform(healthcare_functions.GenTimestamp(self.sample_rate)) \\\n",
    "                              .transform(SlidingWindow(length=self.sample_rate, trigger=self.sample_rate-1)) \\\n",
    "                              .transform(healthcare_functions.aggregate) \\\n",
    "\n",
    "            ## Calculate RPeak and RR delta\n",
    "            rpeak_data_stream = patientmonitoring_functions.streaming_rpeak(patientData, self.sample_rate, data_label='ECG Lead II')\n",
    "\n",
    "            ## Create a view of the data\n",
    "            self.view_data = rpeak_data_stream.view()\n",
    "\n",
    "            ## Compile Python Streams application and submit job\n",
    "            streamsx.topology.context.submit(context, topo.graph)\n",
    "\n",
    "\n",
    "        '''Access view data'''\n",
    "        def get_data(self):\n",
    "            return self.view_data.start_data_fetch()\n",
    "\n"
   ]
  },
  {
   "cell_type": "code",
   "execution_count": null,
   "metadata": {
    "collapsed": false,
    "nbpresent": {
     "id": "8db70313-aa8e-40b2-a79d-6f5dfc4948a8"
    },
    "scrolled": true
   },
   "outputs": [],
   "source": [
    "import sys,os,os.path\n",
    "sys.path.append('../src')\n",
    "sys.path.append('../ext/biosppy_streaming')\n",
    "from healthcare_patient import HealthcarePatientData\n",
    "from healthcare_patient import PatientIngestService\n",
    "import subprocess\n",
    "import getpass\n",
    "import json\n",
    "from streamtool import Streamtool as st\n",
    "\n",
    "vcap_ = ''  # streaming analytics service VCAP\n",
    "user_ = ''  # username for distributed instance\n",
    "pass_ = ''  # password for distributed instance\n",
    "\n",
    "# supply context for submitting build\n",
    "context = 'DISTRIBUTED'\n",
    "# context = 'ANALYTICS_SERVICE'\n",
    "\n",
    "if context == 'DISTRIBUTED':\n",
    "    print ('Submitting to a distributed instance.')\n",
    "\n",
    "    user_ = input('Username: ')\n",
    "    pass_ = getpass.getpass(prompt='Password: ')\n",
    "\n",
    "    ## display Streams Console link\n",
    "    print(\"Streams Console: \", end='')\n",
    "    st.geturl()\n",
    "    \n",
    "    ## submit patient ingest microservice\n",
    "    PatientIngestService(num_patients=1).run()\n",
    "\n",
    "elif context == 'ANALYTICS_SERVICE':\n",
    "    print ('Submitting to streaming analytic service.')\n",
    "  \n",
    "    # Assume you have created this file by running the \"Create VCAP Service Credential\" notebook\n",
    "    with open('vcap_services.json') as json_data:\n",
    "        vcap_ = json.load(json_data)\n",
    "        \n",
    "    # Need to submit patient ingest microservice manually\n",
    "\n",
    "else:\n",
    "    print ('Unknown context \"%s\" specified.' % (context))\n",
    "    assert (False)\n",
    "    \n",
    "print('')\n",
    "\n",
    "## submit patient analysis job (Python Topology Application)\n",
    "healthcare_patient = HealthcarePatientData(vcap=vcap_, username=user_, password=pass_, patient_id=\"patient-1\")\n",
    "healthcare_patient.run(context=context)\n",
    "\n",
    "print('DONE')"
   ]
  },
  {
   "cell_type": "markdown",
   "metadata": {},
   "source": [
    "### Cell Description\n",
    "\n",
    "This cell initializes all of the graphs that will be used as well as creates the background job that access the view data.\n",
    "\n",
    "The view data is continuously retrieved from the Streams view server in a background job. Each graph object receives a copy of the data. The graph objects extracts and stores the data that is relevant for that particular graph. Each time a call to ```update()``` is made on a graph object, the next data point is retrieved and displayed. Each graph object maintains an internal queue so that each time a call to ```update()``` is made, the next element in the queue is retrieved and removed. "
   ]
  },
  {
   "cell_type": "code",
   "execution_count": null,
   "metadata": {
    "collapsed": false,
    "nbpresent": {
     "id": "b72a8e1e-e623-4d76-8251-76680be593ee"
    }
   },
   "outputs": [],
   "source": [
    "import numpy as np\n",
    "from bokeh.plotting import figure, show\n",
    "from bokeh.layouts import column, row, gridplot, widgetbox\n",
    "from bokeh.models import Range1d, BasicTicker\n",
    "from bokeh.io import output_notebook, push_notebook\n",
    "import medgraphs\n",
    "from utils import *\n",
    "import time\n",
    "import collections\n",
    "\n",
    "## load BokehJS visualization library (must be loaded in a separate cell)\n",
    "from bokeh.io import output_notebook, push_notebook\n",
    "from bokeh.resources import INLINE\n",
    "output_notebook(resources=INLINE)\n",
    "%autosave 0\n",
    "%reload_ext autoreload\n",
    "%aimport utils\n",
    "%aimport medgraphs\n",
    "%autoreload 1\n",
    "\n",
    "\n",
    "## create the graphs ##\n",
    "graphs = []\n",
    "\n",
    "ecg_leadII_graph = medgraphs.ECGGraph(signal_label='ECG Lead II', title='ECG Lead II', plot_width=600, min_range=-0.5, max_range=2.0)\n",
    "graphs.append(ecg_leadII_graph)\n",
    "\n",
    "leadII_poincare = medgraphs.PoincareGraph(signal_label='Poincare - ECG Lead II', title='Poincare - ECG Lead II')\n",
    "graphs.append(leadII_poincare)\n",
    "\n",
    "ecg_leadV_graph = medgraphs.ECGGraph(signal_label='ECG Lead V', title='ECG Lead V', plot_width=600)\n",
    "graphs.append(ecg_leadV_graph)\n",
    "\n",
    "resp_graph = medgraphs.ECGGraph(signal_label='Resp', title='Resp', min_range=-1, max_range=3, plot_width=600)\n",
    "graphs.append(resp_graph)\n",
    "\n",
    "pleth_graph = medgraphs.ECGGraph(signal_label='Pleth', title='Pleth', min_range=0, max_range=5, plot_width=600)\n",
    "graphs.append(pleth_graph)\n",
    "\n",
    "hr_numeric = medgraphs.NumericText(signal_label='HR', title='HR', color='#7cc7ff')\n",
    "graphs.append(hr_numeric)\n",
    "\n",
    "pulse_numeric = medgraphs.NumericText(signal_label='PULSE', title='PULSE', color='#e71d32')\n",
    "graphs.append(pulse_numeric)\n",
    "\n",
    "spo2_numeric = medgraphs.NumericText(signal_label='SpO2', title='SpO2', color='#8cd211')\n",
    "graphs.append(spo2_numeric)\n",
    "\n",
    "abp_numeric = medgraphs.ABPNumericText(abp_sys_label='ABP Systolic', abp_dia_label='ABP Diastolic', title='ABP', color='#fdd600')\n",
    "graphs.append(abp_numeric)\n",
    "\n",
    "## retrieve data from Streams view in a background job ##\n",
    "def data_collector(view, graphs):\n",
    "    for d in iter(view.get, None):\n",
    "        for g in graphs:\n",
    "            g.add(d)\n",
    "            \n",
    "from IPython.lib import backgroundjobs as bg\n",
    "jobs = bg.BackgroundJobManager()\n",
    "jobs.new(data_collector, healthcare_patient.get_data(), graphs)"
   ]
  },
  {
   "cell_type": "markdown",
   "metadata": {},
   "source": [
    "### Cell Description\n",
    "\n",
    "This cell is responsible for laying out and displaying the graphs. There is an infinite loop that continuously calls the ```update()``` method on each of the graphs. After each graph has been updated, a call to ```push_notebook()``` is made, which causes the notebook to update the graphics. "
   ]
  },
  {
   "cell_type": "code",
   "execution_count": null,
   "metadata": {
    "collapsed": false,
    "nbpresent": {
     "id": "a39590c1-697b-49cc-aecb-37c5afe939ed"
    },
    "scrolled": true
   },
   "outputs": [],
   "source": [
    "## display graphs\n",
    "show(\n",
    "    row(\n",
    "        column(\n",
    "            ecg_leadII_graph.get_figure(), \n",
    "            ecg_leadV_graph.get_figure(), \n",
    "            resp_graph.get_figure(),\n",
    "            pleth_graph.get_figure()\n",
    "        ), \n",
    "        column(\n",
    "            leadII_poincare.get_figure(),\n",
    "            widgetbox(hr_numeric.get_figure()),\n",
    "            widgetbox(pulse_numeric.get_figure()),\n",
    "            widgetbox(spo2_numeric.get_figure()),\n",
    "            widgetbox(abp_numeric.get_figure())\n",
    "        )\n",
    "    ),\n",
    "    notebook_handle=True\n",
    ")\n",
    "\n",
    "cnt = 0\n",
    "while True:\n",
    "    ## update graphs\n",
    "    for g in graphs:\n",
    "        g.update()\n",
    "\n",
    "    ## update notebook \n",
    "    cnt += 1\n",
    "    if cnt % 5 == 0:\n",
    "        push_notebook() ## refresh the graphs\n",
    "        cnt = 0\n",
    "    time.sleep(0.008)\n"
   ]
  },
  {
   "cell_type": "code",
   "execution_count": null,
   "metadata": {
    "collapsed": true
   },
   "outputs": [],
   "source": []
  }
 ],
 "metadata": {
  "anaconda-cloud": {},
  "kernelspec": {
   "display_name": "Python [conda root]",
   "language": "python",
   "name": "conda-root-py"
  },
  "language_info": {
   "codemirror_mode": {
    "name": "ipython",
    "version": 3
   },
   "file_extension": ".py",
   "mimetype": "text/x-python",
   "name": "python",
   "nbconvert_exporter": "python",
   "pygments_lexer": "ipython3",
   "version": "3.5.2"
  },
  "nbpresent": {
   "slides": {},
   "themes": {
    "default": "577e4657-0ca5-402b-869f-f2a36c2257ab",
    "theme": {
     "577e4657-0ca5-402b-869f-f2a36c2257ab": {
      "backgrounds": {
       "dc7afa04-bf90-40b1-82a5-726e3cff5267": {
        "background-color": "31af15d2-7e15-44c5-ab5e-e04b16a89eff",
        "id": "dc7afa04-bf90-40b1-82a5-726e3cff5267"
       }
      },
      "id": "577e4657-0ca5-402b-869f-f2a36c2257ab",
      "palette": {
       "19cc588f-0593-49c9-9f4b-e4d7cc113b1c": {
        "id": "19cc588f-0593-49c9-9f4b-e4d7cc113b1c",
        "rgb": [
         252,
         252,
         252
        ]
       },
       "31af15d2-7e15-44c5-ab5e-e04b16a89eff": {
        "id": "31af15d2-7e15-44c5-ab5e-e04b16a89eff",
        "rgb": [
         68,
         68,
         68
        ]
       },
       "50f92c45-a630-455b-aec3-788680ec7410": {
        "id": "50f92c45-a630-455b-aec3-788680ec7410",
        "rgb": [
         197,
         226,
         245
        ]
       },
       "c5cc3653-2ee1-402a-aba2-7caae1da4f6c": {
        "id": "c5cc3653-2ee1-402a-aba2-7caae1da4f6c",
        "rgb": [
         43,
         126,
         184
        ]
       },
       "efa7f048-9acb-414c-8b04-a26811511a21": {
        "id": "efa7f048-9acb-414c-8b04-a26811511a21",
        "rgb": [
         25.118061674008803,
         73.60176211453744,
         107.4819383259912
        ]
       }
      },
      "rules": {
       "a": {
        "color": "19cc588f-0593-49c9-9f4b-e4d7cc113b1c"
       },
       "blockquote": {
        "color": "50f92c45-a630-455b-aec3-788680ec7410",
        "font-size": 3
       },
       "code": {
        "font-family": "Anonymous Pro"
       },
       "h1": {
        "color": "19cc588f-0593-49c9-9f4b-e4d7cc113b1c",
        "font-family": "Merriweather",
        "font-size": 8
       },
       "h2": {
        "color": "19cc588f-0593-49c9-9f4b-e4d7cc113b1c",
        "font-family": "Merriweather",
        "font-size": 6
       },
       "h3": {
        "color": "50f92c45-a630-455b-aec3-788680ec7410",
        "font-family": "Lato",
        "font-size": 5.5
       },
       "h4": {
        "color": "c5cc3653-2ee1-402a-aba2-7caae1da4f6c",
        "font-family": "Lato",
        "font-size": 5
       },
       "h5": {
        "font-family": "Lato"
       },
       "h6": {
        "font-family": "Lato"
       },
       "h7": {
        "font-family": "Lato"
       },
       "li": {
        "color": "50f92c45-a630-455b-aec3-788680ec7410",
        "font-size": 3.25
       },
       "pre": {
        "font-family": "Anonymous Pro",
        "font-size": 4
       }
      },
      "text-base": {
       "color": "19cc588f-0593-49c9-9f4b-e4d7cc113b1c",
       "font-family": "Lato",
       "font-size": 4
      }
     }
    }
   }
  }
 },
 "nbformat": 4,
 "nbformat_minor": 0
}
